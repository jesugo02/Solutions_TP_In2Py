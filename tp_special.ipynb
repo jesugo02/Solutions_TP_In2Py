{
 "cells": [
  {
   "cell_type": "markdown",
   "metadata": {},
   "source": [
    "# Python01-IMSP"
   ]
  },
  {
   "cell_type": "markdown",
   "metadata": {},
   "source": [
    "# Q1"
   ]
  },
  {
   "cell_type": "code",
   "execution_count": 4,
   "metadata": {},
   "outputs": [
    {
     "name": "stdout",
     "output_type": "stream",
     "text": [
      "Enter an integer 1\n",
      " som = 0; prod = 3\n"
     ]
    }
   ],
   "source": [
    "n = -1\n",
    "som = 0\n",
    "prod = 1\n",
    "while(n <= 0):\n",
    "    n = int(input(\"Enter an integer \"))\n",
    "\n",
    "for i in range(n):\n",
    "    if(i%2 != 0):\n",
    "        som += (i + 3)\n",
    "    else:\n",
    "        prod *= (i + 3)\n",
    "print(f\" som = {som}; prod = {prod}\")"
   ]
  },
  {
   "cell_type": "markdown",
   "metadata": {},
   "source": [
    "# Q2"
   ]
  },
  {
   "cell_type": "code",
   "execution_count": 1,
   "metadata": {},
   "outputs": [
    {
     "name": "stdout",
     "output_type": "stream",
     "text": [
      "Enter a number between 0 and 6 : 5\n",
      "Weekend\n"
     ]
    }
   ],
   "source": [
    "n=-1\n",
    "while(n < 0 or n > 6):\n",
    "    n = int(input(\"Enter a number between 0 and 6 : \"))\n",
    "if(n >=0 and n <=4):\n",
    "    if(n==0):\n",
    "        print(\"Lundi\")\n",
    "    if(n==1):\n",
    "        print(\"Mardi\")\n",
    "    if(n==2):\n",
    "        print(\"Mercredi\")\n",
    "    if(n==3):\n",
    "        print(\"Jeudi\")\n",
    "    if(n==4):\n",
    "        print(\"Vendredi\")\n",
    "else:\n",
    "    print(\"Weekend\")"
   ]
  },
  {
   "cell_type": "markdown",
   "metadata": {},
   "source": [
    "# Q3"
   ]
  },
  {
   "cell_type": "code",
   "execution_count": 17,
   "metadata": {},
   "outputs": [
    {
     "name": "stdout",
     "output_type": "stream",
     "text": [
      "Enter a numbre between 0 and 11 : 15\n",
      "Enter a numbre between 0 and 11 : 11\n",
      "31\n"
     ]
    }
   ],
   "source": [
    "n=-1\n",
    "while(n < 0 or n > 11):\n",
    "    n = int(input(\"Enter a numbre between 0 and 11 : \"))\n",
    "if(n >=0 and n <=11):\n",
    "    if(n==0):\n",
    "        print(\"31\")\n",
    "    if(n==1):\n",
    "        print(\"28\")\n",
    "    if(n==2):\n",
    "        print(\"31\")\n",
    "    if(n==3):\n",
    "        print(\"30\")\n",
    "    if(n==4):\n",
    "        print(\"31\")\n",
    "    if(n==5):\n",
    "        print(\"30\")\n",
    "    if(n==6):\n",
    "        print(\"31\")\n",
    "    if(n==7):\n",
    "        print(\"31\")\n",
    "    if(n==8):\n",
    "        print(\"30\")\n",
    "    if(n==9):\n",
    "        print(\"31\")\n",
    "    if(n==10):\n",
    "        print(\"30\")\n",
    "    if(n==11):\n",
    "        print(\"31\")"
   ]
  },
  {
   "cell_type": "markdown",
   "metadata": {},
   "source": [
    "# 4.1"
   ]
  },
  {
   "cell_type": "code",
   "execution_count": 18,
   "metadata": {},
   "outputs": [
    {
     "name": "stdout",
     "output_type": "stream",
     "text": [
      "BIG Joe\n",
      "BIG Joe\n",
      "BIG Joe\n"
     ]
    }
   ],
   "source": [
    "for i in range(3):\n",
    "    print(\"BIG Joe\")"
   ]
  },
  {
   "cell_type": "markdown",
   "metadata": {},
   "source": [
    "# 4.2"
   ]
  },
  {
   "cell_type": "code",
   "execution_count": 20,
   "metadata": {},
   "outputs": [
    {
     "name": "stdout",
     "output_type": "stream",
     "text": [
      "BIG Joe\n",
      "BIG Joe\n",
      "BIG Joe\n"
     ]
    }
   ],
   "source": [
    "i = 1\n",
    "while(i <= 3):\n",
    "    print(\"BIG Joe\")\n",
    "    i += 1"
   ]
  },
  {
   "cell_type": "markdown",
   "metadata": {},
   "source": [
    "# 5."
   ]
  },
  {
   "cell_type": "code",
   "execution_count": 25,
   "metadata": {},
   "outputs": [
    {
     "name": "stdout",
     "output_type": "stream",
     "text": [
      "Enter the first number : 1\n",
      "Enter the second number : 1\n",
      "f(0) = 1\n",
      "f(1) = 1\n",
      "f(2) = 2\n",
      "f(3) = 3\n",
      "f(4) = 5\n",
      "f(5) = 8\n",
      "f(6) = 13\n",
      "f(7) = 21\n",
      "f(8) = 34\n",
      "f(9) = 55\n",
      "f(10) = 89\n",
      "f(11) = 144\n",
      "f(12) = 233\n",
      "f(13) = 377\n",
      "f(14) = 610\n",
      "f(15) = 987\n"
     ]
    }
   ],
   "source": [
    "a0 = int(input(\"Enter the first number : \"))\n",
    "a1 = int(input(\"Enter the second number : \"))\n",
    "\n",
    "a_n=0\n",
    "print(f\"f({0}) = {a0}\")\n",
    "print(f\"f({1}) = {a1}\")\n",
    "for i in range(2,15):\n",
    "    a_n = a0 + a1;\n",
    "    a0 = a1\n",
    "    a1 = a_n\n",
    "    print(f\"f({i}) = {a_n}\")"
   ]
  },
  {
   "cell_type": "markdown",
   "metadata": {},
   "source": [
    "# 6."
   ]
  },
  {
   "cell_type": "code",
   "execution_count": 32,
   "metadata": {},
   "outputs": [
    {
     "name": "stdout",
     "output_type": "stream",
     "text": [
      "Enter the first number : 0\n",
      "Enter the second number : 1\n",
      "x(0) = 0\n",
      "x(1) = 1\n",
      "x(2) = 0.5\n",
      "x(3) = 3.25\n",
      "x(4) = 3.125\n",
      "x(5) = 11.3125\n",
      "x(6) = 15.03125\n",
      "x(7) = 41.453125\n",
      "x(8) = 65.8203125\n",
      "x(9) = 157.26953125\n",
      "x(10) = 276.095703125\n",
      "x(11) = 609.8564453125\n",
      "x(12) = 1133.21533203125\n",
      "x(13) = 2396.177001953125\n",
      "x(14) = 4597.7344970703125\n",
      "x(15) = 9487.398254394531\n",
      "x(16) = 18536.902618408203\n",
      "x(17) = 37730.646072387695\n",
      "x(18) = 74476.03089141846\n",
      "x(19) = 150429.9536628723\n",
      "x(20) = 298643.0695056915\n",
      "x(21) = 600611.3957414627\n",
      "x(22) = 1196234.906387806\n",
      "x(23) = 2399951.640418291\n",
      "x(24) = 4788680.539372563\n",
      "x(25) = 9594195.190941155\n",
      "x(26) = 19163139.213588268\n",
      "x(27) = 38364155.1796176\n",
      "x(28) = 76671495.2305736\n",
      "x(29) = 153428213.15413958\n"
     ]
    }
   ],
   "source": [
    "x0 = -1\n",
    "x1 = -1\n",
    "while(x0 < 0):\n",
    "    x0 = int(input(\"Enter the first number : \"))\n",
    "while(x1 < 0):\n",
    "    x1 = int(input(\"Enter the second number : \"))\n",
    "\n",
    "x_n=0\n",
    "print(f\"x({0}) = {x0}\")\n",
    "print(f\"x({1}) = {x1}\")\n",
    "for i in range(2,30):\n",
    "    x_n= (x1 + 6*x0)/2\n",
    "    x0 = x1\n",
    "    x1 = x_n\n",
    "    print(f\"x({i}) = {x_n}\")"
   ]
  },
  {
   "cell_type": "markdown",
   "metadata": {},
   "source": [
    "# 7.a"
   ]
  },
  {
   "cell_type": "code",
   "execution_count": 39,
   "metadata": {},
   "outputs": [
    {
     "name": "stdout",
     "output_type": "stream",
     "text": [
      "Enter the year : 2020\n",
      "2020 is a leap year !\n"
     ]
    }
   ],
   "source": [
    "year = int(input(\"Enter the year : \"))\n",
    "\n",
    "if(year%4==0 and year%100!=0 or year%400==0):\n",
    "    print(f\"{year} is a leap year !\")\n",
    "else:\n",
    "    print(f\"{year} is not a leap year !\")"
   ]
  },
  {
   "cell_type": "markdown",
   "metadata": {},
   "source": [
    "# 7.b"
   ]
  },
  {
   "cell_type": "code",
   "execution_count": 41,
   "metadata": {},
   "outputs": [
    {
     "name": "stdout",
     "output_type": "stream",
     "text": [
      "Enter the year : 2012\n",
      "True\n"
     ]
    }
   ],
   "source": [
    "year = int(input(\"Enter the year : \"))\n",
    "print(year%4==0 and year%100!=0 or year%400==0)"
   ]
  },
  {
   "cell_type": "markdown",
   "metadata": {},
   "source": [
    "# 8.a.1"
   ]
  },
  {
   "cell_type": "code",
   "execution_count": 48,
   "metadata": {},
   "outputs": [
    {
     "name": "stdout",
     "output_type": "stream",
     "text": [
      "Enter the first number : 5\n",
      "The sum gives : 30\n"
     ]
    }
   ],
   "source": [
    "n=-1\n",
    "while(n < 0):\n",
    "    n = int(input(\"Enter the first number : \"))\n",
    "\n",
    "som = 0\n",
    "for i in range(n+1):\n",
    "    som += i*i;\n",
    "print(f\"The sum gives : {som}\")"
   ]
  },
  {
   "cell_type": "markdown",
   "metadata": {},
   "source": [
    "# 8.a.2"
   ]
  },
  {
   "cell_type": "code",
   "execution_count": 57,
   "metadata": {},
   "outputs": [
    {
     "name": "stdout",
     "output_type": "stream",
     "text": [
      "Enter the first number : 5\n",
      "The sum gives : 30\n"
     ]
    }
   ],
   "source": [
    "n=-1\n",
    "while(n < 0):\n",
    "    n = int(input(\"Enter the first number : \"))\n",
    "\n",
    "som = 0\n",
    "i=0\n",
    "while i < n:\n",
    "    som += i*i\n",
    "    i +=1\n",
    "print(f\"The sum gives : {som}\")"
   ]
  },
  {
   "cell_type": "markdown",
   "metadata": {},
   "source": [
    "# 8.b.1"
   ]
  },
  {
   "cell_type": "code",
   "execution_count": 11,
   "metadata": {},
   "outputs": [
    {
     "name": "stdout",
     "output_type": "stream",
     "text": [
      "Enter the number m : 6\n",
      "The number searched is : 2\n"
     ]
    }
   ],
   "source": [
    "m=-1\n",
    "while(m < 0):\n",
    "    m = int(input(\"Enter the number m : \"))\n",
    "som = 0\n",
    "\n",
    "for i in range(1,m+1):\n",
    "    som += i*i\n",
    "    if(som > m):\n",
    "        print(f\"The number searched is : {i-1}\")\n",
    "        break\n",
    "    elif som==m:\n",
    "        print(f\"The number searched is : {i}\")\n",
    "        break\n",
    "\n"
   ]
  },
  {
   "cell_type": "markdown",
   "metadata": {},
   "source": [
    "# 8.b.2"
   ]
  },
  {
   "cell_type": "code",
   "execution_count": 13,
   "metadata": {},
   "outputs": [
    {
     "name": "stdout",
     "output_type": "stream",
     "text": [
      "Enter the number m : 6\n",
      "The number searched is : 2\n"
     ]
    }
   ],
   "source": [
    "m=-1\n",
    "while(m < 0):\n",
    "    m = int(input(\"Enter the number m : \"))\n",
    "som = 0\n",
    "\n",
    "while i < (m+1):\n",
    "    som += i*i\n",
    "    if(som > m):\n",
    "        print(f\"The number searched is : {i-1}\")\n",
    "        break\n",
    "    elif som==m:\n",
    "        print(f\"The number searched is : {i}\")\n",
    "        break\n",
    "    i += 1\n"
   ]
  },
  {
   "cell_type": "markdown",
   "metadata": {},
   "source": [
    "# 9-a)"
   ]
  },
  {
   "cell_type": "code",
   "execution_count": 64,
   "metadata": {},
   "outputs": [
    {
     "name": "stdout",
     "output_type": "stream",
     "text": [
      "Enter the number : 9\n",
      "1\n",
      "3\n",
      "9\n"
     ]
    }
   ],
   "source": [
    "m=-1\n",
    "while(m < 0):\n",
    "    m = int(input(\"Enter the number : \"))\n",
    "for i in range(1,m+1):\n",
    "    if m%i == 0:\n",
    "        print(i)"
   ]
  },
  {
   "cell_type": "markdown",
   "metadata": {},
   "source": [
    "# 9-b)"
   ]
  },
  {
   "cell_type": "code",
   "execution_count": 16,
   "metadata": {},
   "outputs": [
    {
     "name": "stdout",
     "output_type": "stream",
     "text": [
      "Enter the number : 12\n",
      "2\n",
      "3\n"
     ]
    }
   ],
   "source": [
    "m=-1\n",
    "tmp = 0\n",
    "while(m < 0):\n",
    "    m = int(input(\"Enter the number : \"))\n",
    "for i in range(1,m+1):\n",
    "    if m%i == 0:\n",
    "        if(i>2):\n",
    "            for j in range(2,i):\n",
    "                if(i%j==0):\n",
    "                    tmp=1\n",
    "                    break;\n",
    "            if tmp != 1 :\n",
    "                print(i)\n",
    "        elif(i==2):\n",
    "            print(i)"
   ]
  },
  {
   "cell_type": "markdown",
   "metadata": {},
   "source": [
    "# 10"
   ]
  },
  {
   "cell_type": "code",
   "execution_count": 9,
   "metadata": {},
   "outputs": [
    {
     "name": "stdout",
     "output_type": "stream",
     "text": [
      "Enter the number n: 5\n",
      "Enter the another number N: 12\n",
      "5 * 0 = 0\n",
      "5 * 1 = 5\n",
      "5 * 2 = 10\n",
      "5 * 3 = 15\n",
      "5 * 4 = 20\n",
      "5 * 5 = 25\n",
      "5 * 6 = 30\n",
      "5 * 7 = 35\n",
      "5 * 8 = 40\n",
      "5 * 9 = 45\n",
      "5 * 10 = 50\n",
      "5 * 11 = 55\n",
      "5 * 12 = 60\n"
     ]
    }
   ],
   "source": [
    "n=-1\n",
    "N=-1\n",
    "while(n < 0 or n > 9):\n",
    "    n = int(input(\"Enter the number n: \"))\n",
    "\n",
    "while(N < 0):\n",
    "    N = int(input(\"Enter the another number N: \"))\n",
    "\n",
    "for i in range(N+1):\n",
    "    print(f\"{n} * {i} = {n * i}\")"
   ]
  },
  {
   "cell_type": "markdown",
   "metadata": {},
   "source": [
    "# 11"
   ]
  },
  {
   "cell_type": "code",
   "execution_count": 12,
   "metadata": {},
   "outputs": [
    {
     "name": "stdout",
     "output_type": "stream",
     "text": [
      "0\n",
      "3\n",
      "6\n",
      "7\n",
      "9\n",
      "11\n",
      "12\n",
      "14\n",
      "15\n",
      "18\n",
      "21\n",
      "22\n",
      "24\n",
      "27\n",
      "28\n",
      "30\n",
      "33\n",
      "35\n",
      "36\n",
      "39\n"
     ]
    }
   ],
   "source": [
    "for i in range(41):\n",
    "    if (i%3 == 0 or i%7 == 0 or i%11 == 0):\n",
    "       print(i)"
   ]
  },
  {
   "cell_type": "markdown",
   "metadata": {},
   "source": [
    "# 12"
   ]
  },
  {
   "cell_type": "code",
   "execution_count": 22,
   "metadata": {},
   "outputs": [
    {
     "name": "stdout",
     "output_type": "stream",
     "text": [
      "Enter a number : 56\n",
      "E[56.0] = 56\n"
     ]
    }
   ],
   "source": [
    "x = float(input(\"Enter a number : \"))\n",
    "\n",
    "print(f\"E[{x}] = {int(x)}\")"
   ]
  },
  {
   "cell_type": "markdown",
   "metadata": {},
   "source": [
    "# 13)"
   ]
  },
  {
   "cell_type": "code",
   "execution_count": null,
   "metadata": {},
   "outputs": [],
   "source": []
  },
  {
   "cell_type": "markdown",
   "metadata": {},
   "source": [
    "# 14)"
   ]
  },
  {
   "cell_type": "code",
   "execution_count": null,
   "metadata": {},
   "outputs": [],
   "source": [
    "x = float(input(\"Enter a number : \"))"
   ]
  }
 ],
 "metadata": {
  "kernelspec": {
   "display_name": "Python 3",
   "language": "python",
   "name": "python3"
  },
  "language_info": {
   "codemirror_mode": {
    "name": "ipython",
    "version": 3
   },
   "file_extension": ".py",
   "mimetype": "text/x-python",
   "name": "python",
   "nbconvert_exporter": "python",
   "pygments_lexer": "ipython3",
   "version": "3.8.10"
  }
 },
 "nbformat": 4,
 "nbformat_minor": 4
}
