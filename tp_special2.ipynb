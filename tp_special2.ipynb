{
 "cells": [
  {
   "cell_type": "markdown",
   "metadata": {},
   "source": [
    "# 1."
   ]
  },
  {
   "cell_type": "code",
   "execution_count": 2,
   "metadata": {},
   "outputs": [
    {
     "name": "stdout",
     "output_type": "stream",
     "text": [
      "Enter x 4\n",
      "Enter y 2\n",
      "7.734719039718063\n"
     ]
    }
   ],
   "source": [
    "from math import sqrt, sin\n",
    "def func(x, y):\n",
    "    \"\"\"given two values x and y computes the numerical value of sqrt(x^(2+y))/(1/x + 2sin(y))\"\"\"\n",
    "    return (sqrt(x**(2+y))/(1/x + 2*sin(y)))\n",
    "\n",
    "x = float(input(\"Enter x \"))\n",
    "y = float(input(\"Enter y \"))\n",
    "\n",
    "print(func(x, y))"
   ]
  },
  {
   "cell_type": "markdown",
   "metadata": {},
   "source": [
    "# 2."
   ]
  },
  {
   "cell_type": "code",
   "execution_count": 16,
   "metadata": {},
   "outputs": [
    {
     "name": "stdout",
     "output_type": "stream",
     "text": [
      "Enter b 2\n",
      "Enter n 3\n",
      "8\n"
     ]
    }
   ],
   "source": [
    "b = int(input(\"Enter b \"))\n",
    "n = -1\n",
    "while(n < 0):\n",
    "    n = int(input(\"Enter n (positve) \"))\n",
    "\n",
    "def ownpowerfn(b, n):\n",
    "    \"\"\"compute b^n without using python's power operator, b and n given\"\"\"\n",
    "    prod = 1\n",
    "    for i in range(1,n+1):\n",
    "        prod *= b\n",
    "    return prod\n",
    "print(ownpowerfn(b, n))"
   ]
  },
  {
   "cell_type": "markdown",
   "metadata": {},
   "source": [
    "# 3.a"
   ]
  },
  {
   "cell_type": "code",
   "execution_count": null,
   "metadata": {},
   "outputs": [],
   "source": [
    "def arithmetic_mean(a, b):\n",
    "    return (a + b)/2\n",
    "    \n",
    "def geometric_mean(a,  b):\n",
    "    return (a * b)**(1/2)\n",
    "\n",
    "print(arithmetic_mean(1, 2))\n",
    "print(arithmetic_mean(1, 2))"
   ]
  },
  {
   "cell_type": "markdown",
   "metadata": {},
   "source": [
    "# 3.b"
   ]
  },
  {
   "cell_type": "code",
   "execution_count": null,
   "metadata": {},
   "outputs": [],
   "source": [
    "def celcius_to_fahrenheit(tmp_c):\n",
    "    \"\"\"convert from celcius to fahrenheit\"\"\"\n",
    "    return (tmp_c * 9/5) + 32\n",
    "\n",
    "def fahrenheit_to_celcius(tmp_f):\n",
    "    \"\"\"convert from fahrenheit to celcius\"\"\"\n",
    "    return (tmp_f - 32)* 5/9\n"
   ]
  },
  {
   "cell_type": "markdown",
   "metadata": {},
   "source": [
    "# 3.c"
   ]
  },
  {
   "cell_type": "code",
   "execution_count": null,
   "metadata": {},
   "outputs": [],
   "source": [
    "def degrees_to_radians(c):\n",
    "    return \n",
    "\n",
    "def radians_to_degrees(f):\n",
    "    return \n"
   ]
  },
  {
   "cell_type": "markdown",
   "metadata": {},
   "source": [
    "# 3.d"
   ]
  },
  {
   "cell_type": "code",
   "execution_count": 17,
   "metadata": {},
   "outputs": [
    {
     "name": "stdout",
     "output_type": "stream",
     "text": [
      "31.41592653589793\n",
      "78.53981633974483\n"
     ]
    }
   ],
   "source": [
    "from math import pi\n",
    "\n",
    "def circumference(r):\n",
    "    return 2 * pi * r\n",
    "def area(r):\n",
    "    return pi * r * r\n",
    "\n",
    "print(circumference(5))\n",
    "print(area(5))"
   ]
  },
  {
   "cell_type": "markdown",
   "metadata": {},
   "source": [
    "# 4.a"
   ]
  },
  {
   "cell_type": "code",
   "execution_count": 7,
   "metadata": {},
   "outputs": [
    {
     "name": "stdout",
     "output_type": "stream",
     "text": [
      "2.0\n",
      "1.7320508075688772\n",
      "2.0 - 1.7320508075688772\n",
      "1.8660254037844386 - 1.8612097182041991\n",
      "1.8636175609943189 - 1.8636160054956363\n",
      "1.8636167832449777 - 1.8636167832448152\n",
      "1.8636167832448964 - 1.8636167832448964\n",
      "1.8636167832448964 - 1.8636167832448964\n",
      "1.8636167832448964 - 1.8636167832448964\n",
      "1.8636167832448964 - 1.8636167832448964\n",
      "1.8636167832448964 - 1.8636167832448964\n",
      "1.8636167832448964 - 1.8636167832448964\n"
     ]
    }
   ],
   "source": [
    "from math import sqrt\n",
    "\n",
    "def arithmetic_mean(a, b):\n",
    "    \"\"\" Return (a+b)/2.\"\"\"\n",
    "    \n",
    "    return (a+b)/2\n",
    "\n",
    "def geometric_mean(a, b):\n",
    "    \"\"\"retruns the geometric mean of two values a and b\"\"\"\n",
    "    if(a*b >= 0):\n",
    "        return sqrt(a*b)\n",
    "    else:\n",
    "        return \"Invalid input !\"\n",
    "\n",
    "print(arithmetic_mean(1, 3))\n",
    "print(geometric_mean(1, 3))\n",
    "\n",
    "def avggeom(a, b, n):\n",
    "    \"\"\"recursive function, compute n times the arithmetic and geometric mean of two given numbers \"\"\"\n",
    "    if(n > 0):\n",
    "        c = arithmetic_mean(a, b)\n",
    "        d = geometric_mean(a, b)\n",
    "        print(c, d, sep=\" - \")\n",
    "        avggeom(c, d, n-1)\n",
    "\n",
    "avggeom(1, 3, 10)\n",
    "    "
   ]
  },
  {
   "cell_type": "markdown",
   "metadata": {},
   "source": [
    "# 4.b"
   ]
  },
  {
   "cell_type": "code",
   "execution_count": null,
   "metadata": {},
   "outputs": [],
   "source": [
    "from math import sqrt\n",
    "\n",
    "def distancefn(A, B):\n",
    "    \"\"\"Computes the distance between two given points\"\"\"\n",
    "    return sqrt(abs(A[0]-B[0])**2 + abs(A[1]-B[1])**2)\n",
    "\n",
    "def pa_triangle(A, B, C):\n",
    "    \"\"\"given three parameters A, B and C, computes the perimeter described by these three points\"\"\"\n",
    "    a = distancefn(A, B)\n",
    "    b = distancefn(A, C)\n",
    "    c = distancefn(B, C)\n",
    "    print(a, b, c)\n",
    "    perimeter = a + b + c\n",
    "    aire = sqrt(((4*(a**2)*c**2 - (a**2-b**2+c**2)**2)) / 4) / 2\n",
    "    print(\"The perimeter of this triangle equals\", perimeter, \"ul.\")\n",
    "    print(\"The area of this triangle equals\", aire, \"ua.\")\n",
    "\n",
    "pa_triangle((0, 0), (0, 4), (3, 0))\n",
    "\n"
   ]
  },
  {
   "cell_type": "markdown",
   "metadata": {},
   "source": [
    "# 5."
   ]
  },
  {
   "cell_type": "code",
   "execution_count": null,
   "metadata": {},
   "outputs": [],
   "source": [
    "\n",
    "\n",
    "def factorielle(n):\n",
    "    \"\"\"computes the factorial of a given integer\"\"\"\n",
    "    if('int' not in str(type(n)) or n < 0):\n",
    "        return -1\n",
    "    \n",
    "    fact = 1\n",
    "    for i in range(2, n+1):\n",
    "        fact *= i\n",
    "    return fact\n",
    "\n",
    "def second_degree_equation(a, b, c):\n",
    "    \"\"\"\n",
    "    Evaluation of a second degre equation\n",
    "    \"\"\"\n",
    "    delta = (b**2-4*a*c)\n",
    "    if(delta < 0):\n",
    "        print(\"Le trinome admet deux racines complexes.\")\n",
    "    elif(delta == 0):\n",
    "        print(\"Le trinome admet une racine réelle double.\")\n",
    "    else:\n",
    "        print(\"Le trinome admet deux racines réelles distinctes.\")\n",
    "\n",
    "def menu():\n",
    "    \"\"\"Print the MENU\"\"\"\n",
    "    print(\"MENU\")\n",
    "    print(\"1- Evaluation of factorial\")\n",
    "    print(\"2- Evaluation of a second degree equation\")\n",
    "    print(\"3- Exit\")\n",
    "    while(True):\n",
    "        a = int(input(\"Select an option : \"))\n",
    "        if(a >= 1 and a <= 3):\n",
    "            return a\n",
    "        else:\n",
    "            print(\"Invalid input ! Please, retry.\")\n",
    "            \n",
    "def fact2nddeg():\n",
    "    \"\"\"Perfoms the operation chosen by the user in the menu\"\"\"\n",
    "    while(True):\n",
    "        choice = menu()\n",
    "        if(choice == 3):\n",
    "            print(\"Bye !\")\n",
    "            break\n",
    "        elif(choice == 1):\n",
    "            a = int(input(\"Enter a natural number : \"))\n",
    "            res = factorielle(a)\n",
    "            if(res == -1):\n",
    "                print(\"Invalid input !\")\n",
    "            else:\n",
    "                print(\"{}! = {}\".format(a, res))\n",
    "        else:\n",
    "            a = int(input(\"Enter a first number : \"))\n",
    "            b = int(input(\"Enter a second number : \"))\n",
    "            c = int(input(\"Enter a third number : \"))\n",
    "            second_degree_equation(a, b, c)\n",
    "            \n",
    "fact2nddeg()\n",
    "\n"
   ]
  },
  {
   "cell_type": "markdown",
   "metadata": {},
   "source": [
    "# 6."
   ]
  },
  {
   "cell_type": "code",
   "execution_count": 5,
   "metadata": {},
   "outputs": [
    {
     "data": {
      "text/plain": [
       "25"
      ]
     },
     "execution_count": 5,
     "metadata": {},
     "output_type": "execute_result"
    }
   ],
   "source": [
    "def power(x, n):\n",
    "    \"\"\"\n",
    "     Computes x^n\n",
    "    \"\"\"\n",
    "    if(n == 0):\n",
    "        return 1\n",
    "    else:\n",
    "        return x*(power(x, n-1))\n",
    "\n",
    "power(5, 2)"
   ]
  },
  {
   "cell_type": "markdown",
   "metadata": {},
   "source": [
    "# 7."
   ]
  },
  {
   "cell_type": "code",
   "execution_count": null,
   "metadata": {},
   "outputs": [],
   "source": [
    "def fibonacci(n):\n",
    "    \"\"\"Implements the fibonacci sequence\"\"\"\n",
    "    if(n == 0 or n == 1):\n",
    "        return n\n",
    "    else:\n",
    "        return fibonacci(n-1) + fibonacci(n-2)\n",
    "\n",
    "fibonacci(100)"
   ]
  }
 ],
 "metadata": {
  "kernelspec": {
   "display_name": "Python 3",
   "language": "python",
   "name": "python3"
  },
  "language_info": {
   "codemirror_mode": {
    "name": "ipython",
    "version": 3
   },
   "file_extension": ".py",
   "mimetype": "text/x-python",
   "name": "python",
   "nbconvert_exporter": "python",
   "pygments_lexer": "ipython3",
   "version": "3.8.10"
  }
 },
 "nbformat": 4,
 "nbformat_minor": 4
}
