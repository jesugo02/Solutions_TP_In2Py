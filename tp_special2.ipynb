{
 "cells": [
  {
   "cell_type": "markdown",
   "metadata": {},
   "source": [
    "# 1."
   ]
  },
  {
   "cell_type": "code",
   "execution_count": 5,
   "metadata": {},
   "outputs": [
    {
     "name": "stdout",
     "output_type": "stream",
     "text": [
      "Enter x 4\n",
      "Enter y 4\n",
      "-50.648739499523224\n"
     ]
    }
   ],
   "source": [
    "from math import *\n",
    "def func(x, y):\n",
    "    return (sqrt(x**(2+y))/(1/x + 2*sin(y)))\n",
    "\n",
    "x = float(input(\"Enter x \"))\n",
    "y = float(input(\"Enter y \"))\n",
    "\n",
    "print(func(x, y))"
   ]
  },
  {
   "cell_type": "markdown",
   "metadata": {},
   "source": [
    "# 2."
   ]
  },
  {
   "cell_type": "code",
   "execution_count": 16,
   "metadata": {},
   "outputs": [
    {
     "name": "stdout",
     "output_type": "stream",
     "text": [
      "Enter b 2\n",
      "Enter n 3\n",
      "8\n"
     ]
    }
   ],
   "source": [
    "b = int(input(\"Enter b \"))\n",
    "n = -1\n",
    "while(n < 0):\n",
    "    n = int(input(\"Enter n \"))\n",
    "\n",
    "def ownpowerfn(b, n):\n",
    "    prod = 1\n",
    "    for i in range(1,n+1):\n",
    "        prod *= b\n",
    "    return prod\n",
    "print(ownpowerfn(b, n))"
   ]
  },
  {
   "cell_type": "markdown",
   "metadata": {},
   "source": [
    "# 3.a"
   ]
  },
  {
   "cell_type": "code",
   "execution_count": null,
   "metadata": {},
   "outputs": [],
   "source": [
    "def arithmetic_mean(a, b):\n",
    "    return (a + b)/2\n",
    "    \n",
    "def geometric_mean(a,  b):\n",
    "    return (a * b)**(1/2)\n",
    "\n",
    "print(arithmetic_mean(1, 2))\n",
    "print(arithmetic_mean(1, 2))"
   ]
  },
  {
   "cell_type": "markdown",
   "metadata": {},
   "source": [
    "# 3.b"
   ]
  },
  {
   "cell_type": "code",
   "execution_count": null,
   "metadata": {},
   "outputs": [],
   "source": [
    "def celcius_to_fahrenheit(tmp_c):\n",
    "    return (tmp_c * 9/5) + 32\n",
    "\n",
    "def fahrenheit_to_celcius(tmp_f):\n",
    "    return (tmp_f * 9/5) + 32\n"
   ]
  },
  {
   "cell_type": "markdown",
   "metadata": {},
   "source": [
    "# 3.c"
   ]
  },
  {
   "cell_type": "code",
   "execution_count": null,
   "metadata": {},
   "outputs": [],
   "source": [
    "def degrees_to_radians(c):\n",
    "    return \n",
    "\n",
    "def radians_to_degrees(f):\n",
    "    return \n"
   ]
  },
  {
   "cell_type": "markdown",
   "metadata": {},
   "source": [
    "# 3.d"
   ]
  },
  {
   "cell_type": "code",
   "execution_count": 17,
   "metadata": {},
   "outputs": [
    {
     "name": "stdout",
     "output_type": "stream",
     "text": [
      "31.41592653589793\n",
      "78.53981633974483\n"
     ]
    }
   ],
   "source": [
    "from math import pi\n",
    "\n",
    "def circumference(r):\n",
    "    return 2 * pi * r\n",
    "def area(r):\n",
    "    return pi * r * r\n",
    "\n",
    "print(circumference(5))\n",
    "print(area(5))"
   ]
  },
  {
   "cell_type": "markdown",
   "metadata": {},
   "source": [
    "# 4.a"
   ]
  },
  {
   "cell_type": "code",
   "execution_count": 1,
   "metadata": {},
   "outputs": [
    {
     "ename": "SyntaxError",
     "evalue": "unexpected EOF while parsing (<ipython-input-1-ec06776a7d5b>, line 8)",
     "output_type": "error",
     "traceback": [
      "\u001b[0;36m  File \u001b[0;32m\"<ipython-input-1-ec06776a7d5b>\"\u001b[0;36m, line \u001b[0;32m8\u001b[0m\n\u001b[0;31m    \u001b[0m\n\u001b[0m    ^\u001b[0m\n\u001b[0;31mSyntaxError\u001b[0m\u001b[0;31m:\u001b[0m unexpected EOF while parsing\n"
     ]
    }
   ],
   "source": [
    "def arithmetic_mean(a, b):\n",
    "    return (a + b)/2\n",
    "    \n",
    "def geometric_mean(a,  b):\n",
    "    return (a + b)**(1/2)\n",
    "\n",
    "def avggeom():\n",
    "    a = float(input(\"Enter numbers : \"))\n",
    "    b = float(input(\"Enter numbers : \"))\n",
    "    \n",
    "    "
   ]
  },
  {
   "cell_type": "markdown",
   "metadata": {},
   "source": [
    "# 4.b"
   ]
  },
  {
   "cell_type": "code",
   "execution_count": null,
   "metadata": {},
   "outputs": [],
   "source": []
  }
 ],
 "metadata": {
  "kernelspec": {
   "display_name": "Python 3",
   "language": "python",
   "name": "python3"
  },
  "language_info": {
   "codemirror_mode": {
    "name": "ipython",
    "version": 3
   },
   "file_extension": ".py",
   "mimetype": "text/x-python",
   "name": "python",
   "nbconvert_exporter": "python",
   "pygments_lexer": "ipython3",
   "version": "3.8.10"
  }
 },
 "nbformat": 4,
 "nbformat_minor": 4
}
