{
 "cells": [
  {
   "cell_type": "markdown",
   "metadata": {
    "id": "QYZn2ujP9tcA"
   },
   "source": [
    "\n",
    "\n",
    "### <center> <b> <span style=\"color:blue;\"> Travaux Pratiques: Fonctions</span> </b></center>\n",
    "\n"
   ]
  },
  {
   "cell_type": "markdown",
   "metadata": {
    "id": "iMDzVKcl9tcE"
   },
   "source": [
    "#### **Exercice 00:**  \n",
    "> **Écrire une fonction `cube` qui retourne le cube de son argument.**"
   ]
  },
  {
   "cell_type": "code",
   "execution_count": 2,
   "metadata": {},
   "outputs": [
    {
     "name": "stdout",
     "output_type": "stream",
     "text": [
      "27\n"
     ]
    }
   ],
   "source": [
    "def cube(a):\n",
    "    \"\"\"return the cube of a given number\"\"\"\n",
    "    return a**3\n",
    "print(cube(3))"
   ]
  },
  {
   "cell_type": "markdown",
   "metadata": {
    "id": "m1ac89qS9tcH"
   },
   "source": [
    "#### **Exercice 01:**  \n",
    "> **Déclarez une fonction `ajouter_deux_nombres`. Elle prend deux paramètres et renvoie leur somme.**"
   ]
  },
  {
   "cell_type": "code",
   "execution_count": 1,
   "metadata": {
    "id": "E_AgGmNy9tcH"
   },
   "outputs": [
    {
     "name": "stdout",
     "output_type": "stream",
     "text": [
      "24\n"
     ]
    }
   ],
   "source": [
    "def ajouter_deux_nombres (a, b):\n",
    "    \"\"\"return the sum of two numbers\"\"\"\n",
    "    return a + b\n",
    "print(ajouter_deux_nombres(12, 12))"
   ]
  },
  {
   "cell_type": "markdown",
   "metadata": {
    "id": "PKjvAV4y9tcJ"
   },
   "source": [
    "#### **Exercice 02:**  \n",
    "> **L'aire d'un cercle se calcule comme suit : aire = pi x r x r avec pi=3,14. Écrivez une fonction `aire_du_cercle` qui prend le rayon en argument et calcule l'aire du cercle correspodant.**"
   ]
  },
  {
   "cell_type": "code",
   "execution_count": 3,
   "metadata": {
    "id": "AxGzHKXX9tcL"
   },
   "outputs": [
    {
     "name": "stdout",
     "output_type": "stream",
     "text": [
      "28.274333882308138\n"
     ]
    }
   ],
   "source": [
    "from math import pi\n",
    "def aire_du_cercle(r):\n",
    "    \"\"\"return the surface area of a cercle\"\"\"\n",
    "    return pi * r**2\n",
    "print(aire_du_cercle(3))"
   ]
  },
  {
   "cell_type": "markdown",
   "metadata": {
    "id": "6OBRL3oj9tcL"
   },
   "source": [
    "#### **Exercice 03:**  \n",
    "> **La température en °C peut être convertie en °F à l'aide de cette formule : °F = (°C x 9/5) + 32. Écrivez une fonction `convert_celsius_en_fahrenheit` qui convertit les °C en °F**."
   ]
  },
  {
   "cell_type": "code",
   "execution_count": 7,
   "metadata": {
    "colab": {
     "base_uri": "https://localhost:8080/"
    },
    "id": "LpDPEBxn9tcN",
    "outputId": "7c62c4a2-828a-4eea-e995-a89e3acda0ed"
   },
   "outputs": [
    {
     "name": "stdout",
     "output_type": "stream",
     "text": [
      "Enter the value in celsius 15.2\n",
      "59.36\n"
     ]
    }
   ],
   "source": [
    "C=float(input('Enter the value in celsius '))\n",
    "def convert_celsius_en_fahrenheit(C):\n",
    "    \"\"\"convert a given wealther from celcius to fahrenheit\"\"\"\n",
    "    return (C*9/5)+32\n",
    "\n",
    "print(convert_celsius_en_fahrenheit(C))\n"
   ]
  },
  {
   "cell_type": "markdown",
   "metadata": {
    "id": "rJRPsZ2h9tcP"
   },
   "source": [
    "#### **Exercice 04:** \n",
    ">**Écrire une fonction somme avec un argument « tuple de longueur variable » qui calcule la somme des nombres contenus dans le tuple.Tester cette fonction par des appels avec différents tuples d’entiers ou de flottants.**"
   ]
  },
  {
   "cell_type": "code",
   "execution_count": 36,
   "metadata": {
    "colab": {
     "base_uri": "https://localhost:8080/"
    },
    "id": "7qn8Czdc9tcP",
    "outputId": "998d9d34-3e4c-4a64-f02e-9faa0ff36abe"
   },
   "outputs": [
    {
     "name": "stdout",
     "output_type": "stream",
     "text": [
      "len = 4\n",
      "The of the elements is : 22.0\n",
      "len = 2\n",
      "The of the elements is : 13.0\n",
      "len = 6\n",
      "The of the elements is : 22.0\n",
      "len = 2\n",
      "The of the elements is : 11.0\n"
     ]
    }
   ],
   "source": [
    "def somme(a):\n",
    "    \"\"\"return the somme of the elements in a tuple\"\"\"\n",
    "    print(f\"len = {len(a)}\")\n",
    "    som = 0\n",
    "    for i in a:\n",
    "        som += float(i)\n",
    "    print(f\"The of the elements is : {som}\")\n",
    "\n",
    "a = (12 , 1 , 5, 4)\n",
    "b = (12 , 1)\n",
    "c = (12 , 1 , 0, 1, 5 , 3)\n",
    "d = (10, 1)\n",
    "\n",
    "somme(a)\n",
    "somme(b)\n",
    "somme(c)\n",
    "somme(d)"
   ]
  },
  {
   "cell_type": "markdown",
   "metadata": {
    "id": "kls1kYNh9tcR"
   },
   "source": [
    "#### **Exercice 05:** \n",
    ">**Ecrire `somme_liste` qui calcule la somme des nombres contenus dans une liste.Tester cette fonction par des appels avec différents listes d’entiers ou de flottants.**"
   ]
  },
  {
   "cell_type": "code",
   "execution_count": 43,
   "metadata": {},
   "outputs": [
    {
     "name": "stdout",
     "output_type": "stream",
     "text": [
      "The of the elements is : 49.5\n",
      "The of the elements is : 6.0\n",
      "The of the elements is : 0.0\n",
      "La somme est non définie\n"
     ]
    }
   ],
   "source": [
    "def somme_liste(a):\n",
    "    \"\"\"return the somme of the elements in a tuple\"\"\"\n",
    "    som = 0\n",
    "    if(a != []):\n",
    "        for i in a:\n",
    "            if i != ' ':\n",
    "                som += float(i)\n",
    "        print(f\"The of the elements is : {som}\")\n",
    "    else:\n",
    "        print(\"La somme est non définie\")\n",
    "a = [12, 12.5, 15, 10]\n",
    "b = [5, 1, 0]\n",
    "c = [0]\n",
    "d = []\n",
    "somme_liste(a)\n",
    "somme_liste(b)\n",
    "somme_liste(c)\n",
    "somme_liste(d)"
   ]
  },
  {
   "cell_type": "markdown",
   "metadata": {
    "id": "l4gQECfk9tcS"
   },
   "source": [
    "#### **Exercice 06:** \n",
    ">**Écrire une fonction somme qui  prend en argument un entier $n$ et retourne la somme  des $n$-prémiers entiers naturels.**"
   ]
  },
  {
   "cell_type": "code",
   "execution_count": 57,
   "metadata": {},
   "outputs": [
    {
     "name": "stdout",
     "output_type": "stream",
     "text": [
      "La somme n'est pas définie\n",
      "None\n",
      "1\n",
      "210\n",
      "55\n"
     ]
    }
   ],
   "source": [
    "def somme(n):\n",
    "    \"\"\"return the sum of the first n-primes numbers\"\"\"\n",
    "    som = 0\n",
    "    if n > 0:\n",
    "        for i in range(1,n+1):\n",
    "            som += i\n",
    "        return som\n",
    "    else :\n",
    "        print(\"La somme n'est pas définie\")\n",
    "        return \n",
    "\n",
    "print(somme(0))\n",
    "print(somme(1))\n",
    "print(somme(20))\n",
    "print(somme(10))"
   ]
  },
  {
   "cell_type": "markdown",
   "metadata": {
    "id": "tK9EsjZf9tcU"
   },
   "source": [
    "#### **Exercice 07:** \n",
    ">**Écrire une fonction `nom` qui demande à l'utilisateur d'entrer son nom ensuite son prénom et affiche son prénom suivit de son nom.**"
   ]
  },
  {
   "cell_type": "code",
   "execution_count": 61,
   "metadata": {},
   "outputs": [
    {
     "name": "stdout",
     "output_type": "stream",
     "text": [
      "Nom : BIG John\n",
      "Prenom : Joe\n",
      "Joe BIG John\n"
     ]
    }
   ],
   "source": [
    "def nom():\n",
    "    \"\"\"return the firstname followed by the name\"\"\"\n",
    "    n = input(\"Nom : \")\n",
    "    p = input(\"Prenom : \")\n",
    "    print(p + \" \"+ n)\n",
    "nom()"
   ]
  },
  {
   "cell_type": "markdown",
   "metadata": {
    "id": "YSwrwcEz9tcX"
   },
   "source": [
    "#### **Exercice 08:** \n",
    ">**Écrire une fonction `nom` qui demande à l'utilisateur d'entrer son nom ensuite son prénom et affiche son prénom suivit de son nom.**"
   ]
  },
  {
   "cell_type": "code",
   "execution_count": 62,
   "metadata": {
    "id": "mRk-8h1P9tcZ"
   },
   "outputs": [
    {
     "name": "stdout",
     "output_type": "stream",
     "text": [
      "Nom : JAN\n",
      "Prenom : Joe\n",
      "Joe JAN\n"
     ]
    }
   ],
   "source": [
    "def nom():\n",
    "    \"\"\"return the firstname followed by the name\"\"\"\n",
    "    n = input(\"Nom : \")\n",
    "    p = input(\"Prenom : \")\n",
    "    print(p + \" \"+ n)\n",
    "nom()"
   ]
  },
  {
   "cell_type": "markdown",
   "metadata": {
    "id": "VYtzHXAd9tck"
   },
   "source": [
    "#### **Exercice 09:** \n",
    ">**Ecris une fonction `Maximum` qui renvoie le minimum de trois nombres.**"
   ]
  },
  {
   "cell_type": "code",
   "execution_count": 65,
   "metadata": {},
   "outputs": [
    {
     "name": "stdout",
     "output_type": "stream",
     "text": [
      "2\n",
      "9\n",
      "29\n"
     ]
    }
   ],
   "source": [
    "def Maximum(a,b,c):\n",
    "    \"\"\"Gives the max of three given numbers\"\"\"\n",
    "    return max(a,b,c)\n",
    "print(Maximum(1,2,-9))\n",
    "print(Maximum(1,-2,9))\n",
    "print(Maximum(10,5,29))"
   ]
  },
  {
   "cell_type": "markdown",
   "metadata": {
    "id": "gTpTAnGm9tcm"
   },
   "source": [
    "#### **Exercice 10:**\n",
    ">**Soit $f(x)=ax^2+bx+c$ un trinôme du second degré.**\n",
    " 1. **Ecris une fonction `Discriminant` qui calcule son discriminant.**\n",
    " 2. **Ecris ensuite une fonction `existence_des_racines_du_trinome` qui discute suivant les valeurs du discriminant, l'existence de ses racines.** \n"
   ]
  },
  {
   "cell_type": "code",
   "execution_count": null,
   "metadata": {},
   "outputs": [],
   "source": [
    "def Discriminant(a, b, c):\n",
    "    \"\"\"Gives the discriminant of a given polynomial\"\"\"\n",
    "    return b**2 - 4 * a * c\n",
    "\n",
    "def existence_des_racines_du trinome(d):\n",
    "    \"\"\"Test if a polynomial has solutoins based on its discriminant\"\"\"\n",
    "    if(d==0 || d>0):\n",
    "        return 1\n",
    "    else:\n",
    "        return 0\n",
    "\n"
   ]
  },
  {
   "cell_type": "markdown",
   "metadata": {
    "id": "WgJ06GHA9tcn"
   },
   "source": [
    "#### **Exercice 11:**\n",
    ">**Ecris une fonction qui affiche le reste de la division euclidienne d'un entier naturel $a$ par un entier naturel $b$**.\n"
   ]
  },
  {
   "cell_type": "code",
   "execution_count": 66,
   "metadata": {
    "id": "S1uM-Jca9tcn"
   },
   "outputs": [
    {
     "name": "stdout",
     "output_type": "stream",
     "text": [
      "1\n"
     ]
    }
   ],
   "source": [
    "def div_eucli(a,b):\n",
    "    \"\"\"Gives the modulo of a by b\"\"\"\n",
    "    return a%b\n",
    "\n",
    "print(div_eucli(1,5))"
   ]
  },
  {
   "cell_type": "markdown",
   "metadata": {
    "id": "dtC_cOVJ9tco"
   },
   "source": [
    "#### **Exercice 12:**\n",
    ">**Ecris une fonction `terme_suite_geometrique` qui affiche le n-ième terme d'une suite géométrique $(v_n)$ de premier terme $v_0$ et de raison $q$. Teste ce programme pour $v_0=2, q=3$ et $n=4$.**"
   ]
  },
  {
   "cell_type": "code",
   "execution_count": 67,
   "metadata": {
    "id": "TeLDRV8N9tco"
   },
   "outputs": [
    {
     "name": "stdout",
     "output_type": "stream",
     "text": [
      "162\n"
     ]
    }
   ],
   "source": [
    "def terme_suite_geometrique(v0, q, n):\n",
    "    \"\"\"Gives the n-terme of the serie\"\"\"\n",
    "    return v0 * q**n\n",
    "print(terme_suite_geometrique(2,3,4))"
   ]
  },
  {
   "cell_type": "markdown",
   "metadata": {
    "id": "GrmGuHwu9tco"
   },
   "source": [
    "#### **Exercice 13:**\n",
    ">**Écris une fonction `merci` prend en paramètre un `nom` et renvoie le message \"Merci pour votre présence à cet atelier,`nom`.**\n"
   ]
  },
  {
   "cell_type": "code",
   "execution_count": 68,
   "metadata": {},
   "outputs": [
    {
     "name": "stdout",
     "output_type": "stream",
     "text": [
      "Merci pour votre présence à cet atelier, BIG\n"
     ]
    }
   ],
   "source": [
    "def merci(a):\n",
    "    \"\"\"Says 'Merci pour votre présence à cet atelier, ' followed by the given name\"\"\"\n",
    "    print(f\"Merci pour votre présence à cet atelier, {a}\")\n",
    "merci(\"BIG\")"
   ]
  },
  {
   "cell_type": "markdown",
   "metadata": {
    "id": "T3jopRLc9tco"
   },
   "source": [
    "#### **Exercice 14:**\n",
    ">**Écris une fonction `ma_suite` qui définit la suite $(u_n)$ telle que  $$u_{n}=\\frac{2n^2+3n-1}{n+6}.$$\n",
    "Affiche son 5e terme.**\n"
   ]
  },
  {
   "cell_type": "code",
   "execution_count": 69,
   "metadata": {
    "id": "P1l82riw9tcp"
   },
   "outputs": [
    {
     "name": "stdout",
     "output_type": "stream",
     "text": [
      "5.818181818181818\n"
     ]
    }
   ],
   "source": [
    "def ma_suite(n):\n",
    "    \"\"\"Gives the n\"\"\"\n",
    "    return (2 * n**2 + 3*n - 1)/(n +6)\n",
    "\n",
    "print(ma_suite(5))"
   ]
  },
  {
   "cell_type": "markdown",
   "metadata": {
    "id": "SIizzU_A9tcp"
   },
   "source": [
    "\n",
    "\n",
    "<center> <b> <span style=\"color:orange;\"> 🎉 FÉLICITATIONS ! 🎉 </span> </b></center>"
   ]
  }
 ],
 "metadata": {
  "colab": {
   "collapsed_sections": [],
   "name": "In2Py_TP_05.ipynb",
   "provenance": []
  },
  "kernelspec": {
   "display_name": "Python 3",
   "language": "python",
   "name": "python3"
  },
  "language_info": {
   "codemirror_mode": {
    "name": "ipython",
    "version": 3
   },
   "file_extension": ".py",
   "mimetype": "text/x-python",
   "name": "python",
   "nbconvert_exporter": "python",
   "pygments_lexer": "ipython3",
   "version": "3.8.10"
  }
 },
 "nbformat": 4,
 "nbformat_minor": 5
}
